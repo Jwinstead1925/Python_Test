{
  "nbformat": 4,
  "nbformat_minor": 0,
  "metadata": {
    "colab": {
      "provenance": [],
      "authorship_tag": "ABX9TyOwqywYfN9YBQRSc6Vi4bH6",
      "include_colab_link": true
    },
    "kernelspec": {
      "name": "python3",
      "display_name": "Python 3"
    },
    "language_info": {
      "name": "python"
    }
  },
  "cells": [
    {
      "cell_type": "markdown",
      "metadata": {
        "id": "view-in-github",
        "colab_type": "text"
      },
      "source": [
        "<a href=\"https://colab.research.google.com/github/Jwinstead1925/Python_Test/blob/main/Estimate_PI.ipynb\" target=\"_parent\"><img src=\"https://colab.research.google.com/assets/colab-badge.svg\" alt=\"Open In Colab\"/></a>"
      ]
    },
    {
      "cell_type": "code",
      "execution_count": null,
      "metadata": {
        "colab": {
          "base_uri": "https://localhost:8080/"
        },
        "id": "v3doHxS07402",
        "outputId": "9e1eeb53-c1b6-4e38-82e3-6f764d0748ea"
      },
      "outputs": [
        {
          "output_type": "stream",
          "name": "stdout",
          "text": [
            "How many pieces of chalk do you wish to throw? 5000000\n",
            "The estimate of PI is calculated to be:  3.1422152\n"
          ]
        }
      ],
      "source": [
        "## This is an example program to estimate the value of PI\n",
        "from random import *\n",
        "\n",
        "n = int(input('How many pieces of chalk do you wish to throw? '))\n",
        "\n",
        "x = 0\n",
        "y = 0\n",
        "\n",
        "hits = 0 # Initialize hits to 0 to begin the estimate of the number of chalk hits within a quarter-circle\n",
        "for i in range(n):\n",
        "    x = random()  # Generate random x coordinate\n",
        "    y = random()  # Generate random y coordinate\n",
        "    if x**2 + y**2 <= 1.0 : # Use of Pythagoream Theorem\n",
        "      hits += 1\n",
        "estimate = hits / n * 4\n",
        "print('The estimate of PI is calculated to be: ', estimate)"
      ]
    }
  ]
}